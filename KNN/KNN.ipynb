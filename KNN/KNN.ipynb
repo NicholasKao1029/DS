{
 "cells": [
  {
   "cell_type": "code",
   "execution_count": 30,
   "metadata": {},
   "outputs": [],
   "source": [
    "from sklearn.datasets import load_breast_cancer\n",
    "from sklearn.model_selection import train_test_split\n",
    "from sklearn.neighbors import KNeighborsClassifier\n",
    "import matplotlib.pyplot as plt"
   ]
  },
  {
   "cell_type": "code",
   "execution_count": 9,
   "metadata": {},
   "outputs": [
    {
     "name": "stdout",
     "output_type": "stream",
     "text": [
      "First piece of data\n",
      " [1.799e+01 1.038e+01 1.228e+02 1.001e+03 1.184e-01 2.776e-01 3.001e-01\n",
      " 1.471e-01 2.419e-01 7.871e-02 1.095e+00 9.053e-01 8.589e+00 1.534e+02\n",
      " 6.399e-03 4.904e-02 5.373e-02 1.587e-02 3.003e-02 6.193e-03 2.538e+01\n",
      " 1.733e+01 1.846e+02 2.019e+03 1.622e-01 6.656e-01 7.119e-01 2.654e-01\n",
      " 4.601e-01 1.189e-01] \n",
      "\n",
      "Names of features\n",
      " ['mean radius' 'mean texture' 'mean perimeter' 'mean area'\n",
      " 'mean smoothness' 'mean compactness' 'mean concavity'\n",
      " 'mean concave points' 'mean symmetry' 'mean fractal dimension'\n",
      " 'radius error' 'texture error' 'perimeter error' 'area error'\n",
      " 'smoothness error' 'compactness error' 'concavity error'\n",
      " 'concave points error' 'symmetry error' 'fractal dimension error'\n",
      " 'worst radius' 'worst texture' 'worst perimeter' 'worst area'\n",
      " 'worst smoothness' 'worst compactness' 'worst concavity'\n",
      " 'worst concave points' 'worst symmetry' 'worst fractal dimension'] \n",
      "\n"
     ]
    }
   ],
   "source": [
    "breast_cancer_data = load_breast_cancer()\n",
    "\n",
    "\n",
    "print(\"First piece of data\\n\", breast_cancer_data.data[0],\"\\n\")\n",
    "print(\"Names of features\\n\",breast_cancer_data.feature_names,\"\\n\")"
   ]
  },
  {
   "cell_type": "code",
   "execution_count": 79,
   "metadata": {},
   "outputs": [
    {
     "name": "stdout",
     "output_type": "stream",
     "text": [
      "[0 0 0 0 0 0 0 0 0 0 0 0 0 0 0 0 0 0 0 1 1 1 0 0 0 0 0 0 0 0 0 0 0 0 0 0 0\n",
      " 1 0 0 0 0 0 0 0 0 1 0 1 1 1 1 1 0 0 1 0 0 1 1 1 1 0 1 0 0 1 1 1 1 0 1 0 0\n",
      " 1 0 1 0 0 1 1 1 0 0 1 0 0 0 1 1 1 0 1 1 0 0 1 1 1 0 0 1 1 1 1 0 1 1 0 1 1\n",
      " 1 1 1 1 1 1 0 0 0 1 0 0 1 1 1 0 0 1 0 1 0 0 1 0 0 1 1 0 1 1 0 1 1 1 1 0 1\n",
      " 1 1 1 1 1 1 1 1 0 1 1 1 1 0 0 1 0 1 1 0 0 1 1 0 0 1 1 1 1 0 1 1 0 0 0 1 0\n",
      " 1 0 1 1 1 0 1 1 0 0 1 0 0 0 0 1 0 0 0 1 0 1 0 1 1 0 1 0 0 0 0 1 1 0 0 1 1\n",
      " 1 0 1 1 1 1 1 0 0 1 1 0 1 1 0 0 1 0 1 1 1 1 0 1 1 1 1 1 0 1 0 0 0 0 0 0 0\n",
      " 0 0 0 0 0 0 0 1 1 1 1 1 1 0 1 0 1 1 0 1 1 0 1 0 0 1 1 1 1 1 1 1 1 1 1 1 1\n",
      " 1 0 1 1 0 1 0 1 1 1 1 1 1 1 1 1 1 1 1 1 1 0 1 1 1 0 1 0 1 1 1 1 0 0 0 1 1\n",
      " 1 1 0 1 0 1 0 1 1 1 0 1 1 1 1 1 1 1 0 0 0 1 1 1 1 1 1 1 1 1 1 1 0 0 1 0 0\n",
      " 0 1 0 0 1 1 1 1 1 0 1 1 1 1 1 0 1 1 1 0 1 1 0 0 1 1 1 1 1 1 0 1 1 1 1 1 1\n",
      " 1 0 1 1 1 1 1 0 1 1 0 1 1 1 1 1 1 1 1 1 1 1 1 0 1 0 0 1 0 1 1 1 1 1 0 1 1\n",
      " 0 1 0 1 1 0 1 0 1 1 1 1 1 1 1 1 0 0 1 1 1 1 1 1 0 1 1 1 1 1 1 1 1 1 1 0 1\n",
      " 1 1 1 1 1 1 0 1 0 1 1 0 1 1 1 1 1 0 0 1 0 1 0 1 1 1 1 1 0 1 1 0 1 0 1 0 0\n",
      " 1 1 1 0 1 1 1 1 1 1 1 1 1 1 1 0 1 0 0 1 1 1 1 1 1 1 1 1 1 1 1 1 1 1 1 1 1\n",
      " 1 1 1 1 1 1 1 0 0 0 0 0 0 1]\n",
      "['malignant' 'benign']\n"
     ]
    }
   ],
   "source": [
    "# malignant = 0 \n",
    "# benign = 1\n",
    "\n",
    "print(breast_cancer_data.target)\n",
    "print(breast_cancer_data.target_names)\n"
   ]
  },
  {
   "cell_type": "code",
   "execution_count": 55,
   "metadata": {},
   "outputs": [
    {
     "name": "stdout",
     "output_type": "stream",
     "text": [
      "[1.419e+01 2.381e+01 9.287e+01 6.107e+02 9.463e-02 1.306e-01 1.115e-01\n",
      " 6.462e-02 2.235e-01 6.433e-02 4.207e-01 1.845e+00 3.534e+00 3.100e+01\n",
      " 1.088e-02 3.710e-02 3.688e-02 1.627e-02 4.499e-02 4.768e-03 1.686e+01\n",
      " 3.485e+01 1.150e+02 8.113e+02 1.559e-01 4.059e-01 3.744e-01 1.772e-01\n",
      " 4.724e-01 1.026e-01] 0\n"
     ]
    }
   ],
   "source": [
    "training_data, validation_data, training_labels, validation_labels = train_test_split(breast_cancer_data.data, breast_cancer_data.target, test_size = 0.2)\n",
    "# random_state = 42\n",
    "\n",
    "i = 0\n",
    "\n",
    "print(training_data[i], training_labels[i])"
   ]
  },
  {
   "cell_type": "code",
   "execution_count": 56,
   "metadata": {},
   "outputs": [
    {
     "name": "stdout",
     "output_type": "stream",
     "text": [
      "[1.262e+01 2.397e+01 8.135e+01 4.964e+02 7.903e-02 7.529e-02 5.438e-02\n",
      " 2.036e-02 1.514e-01 6.019e-02 2.449e-01 1.066e+00 1.445e+00 1.851e+01\n",
      " 5.169e-03 2.294e-02 3.016e-02 8.691e-03 1.365e-02 3.407e-03 1.420e+01\n",
      " 3.131e+01 9.067e+01 6.240e+02 1.227e-01 3.454e-01 3.911e-01 1.180e-01\n",
      " 2.826e-01 9.585e-02] 1\n"
     ]
    }
   ],
   "source": [
    "print(validation_data[i], validation_labels[i])"
   ]
  },
  {
   "cell_type": "code",
   "execution_count": 57,
   "metadata": {},
   "outputs": [],
   "source": [
    "assert len(training_data) == len(training_labels)\n",
    "assert len(validation_data) == len(validation_labels)"
   ]
  },
  {
   "cell_type": "code",
   "execution_count": 58,
   "metadata": {},
   "outputs": [],
   "source": [
    "classifier = KNeighborsClassifier(n_neighbors = 3)"
   ]
  },
  {
   "cell_type": "code",
   "execution_count": 59,
   "metadata": {},
   "outputs": [
    {
     "data": {
      "text/plain": [
       "KNeighborsClassifier(algorithm='auto', leaf_size=30, metric='minkowski',\n",
       "                     metric_params=None, n_jobs=None, n_neighbors=3, p=2,\n",
       "                     weights='uniform')"
      ]
     },
     "execution_count": 59,
     "metadata": {},
     "output_type": "execute_result"
    }
   ],
   "source": [
    "classifier.fit(training_data, training_labels)"
   ]
  },
  {
   "cell_type": "code",
   "execution_count": 60,
   "metadata": {},
   "outputs": [
    {
     "data": {
      "text/plain": [
       "0.8333333333333334"
      ]
     },
     "execution_count": 60,
     "metadata": {},
     "output_type": "execute_result"
    }
   ],
   "source": [
    "classifier.score(validation_data, validation_labels)"
   ]
  },
  {
   "cell_type": "code",
   "execution_count": 61,
   "metadata": {
    "scrolled": true
   },
   "outputs": [
    {
     "name": "stdout",
     "output_type": "stream",
     "text": [
      "0.8596491228070176\n",
      "0.8508771929824561\n",
      "0.8333333333333334\n",
      "0.8508771929824561\n",
      "0.8596491228070176\n",
      "0.8508771929824561\n",
      "0.8508771929824561\n",
      "0.8596491228070176\n",
      "0.868421052631579\n",
      "0.8771929824561403\n",
      "0.868421052631579\n",
      "0.8596491228070176\n",
      "0.868421052631579\n",
      "0.868421052631579\n",
      "0.8596491228070176\n",
      "0.868421052631579\n",
      "0.868421052631579\n",
      "0.868421052631579\n",
      "0.868421052631579\n",
      "0.868421052631579\n",
      "0.8771929824561403\n",
      "0.8859649122807017\n",
      "0.8771929824561403\n",
      "0.8859649122807017\n",
      "0.8859649122807017\n",
      "0.8859649122807017\n",
      "0.8771929824561403\n",
      "0.8771929824561403\n",
      "0.8596491228070176\n",
      "0.8596491228070176\n",
      "0.8596491228070176\n",
      "0.8508771929824561\n",
      "0.8596491228070176\n",
      "0.8508771929824561\n",
      "0.8596491228070176\n",
      "0.8508771929824561\n",
      "0.8596491228070176\n",
      "0.8508771929824561\n",
      "0.8596491228070176\n",
      "0.8508771929824561\n",
      "0.8596491228070176\n",
      "0.8508771929824561\n",
      "0.8596491228070176\n",
      "0.8596491228070176\n",
      "0.8596491228070176\n",
      "0.8508771929824561\n",
      "0.8421052631578947\n",
      "0.8421052631578947\n",
      "0.8421052631578947\n",
      "0.8421052631578947\n",
      "0.8421052631578947\n",
      "0.8421052631578947\n",
      "0.8421052631578947\n",
      "0.8333333333333334\n",
      "0.8508771929824561\n",
      "0.8421052631578947\n",
      "0.8508771929824561\n",
      "0.8508771929824561\n",
      "0.8508771929824561\n",
      "0.8596491228070176\n",
      "0.8596491228070176\n",
      "0.8508771929824561\n",
      "0.8596491228070176\n",
      "0.8596491228070176\n",
      "0.8596491228070176\n",
      "0.8508771929824561\n",
      "0.868421052631579\n",
      "0.868421052631579\n",
      "0.868421052631579\n",
      "0.868421052631579\n",
      "0.868421052631579\n",
      "0.868421052631579\n",
      "0.868421052631579\n",
      "0.868421052631579\n",
      "0.8596491228070176\n",
      "0.8508771929824561\n",
      "0.8596491228070176\n",
      "0.8508771929824561\n",
      "0.8596491228070176\n",
      "0.8596491228070176\n",
      "0.8596491228070176\n",
      "0.8596491228070176\n",
      "0.8596491228070176\n",
      "0.8596491228070176\n",
      "0.8596491228070176\n",
      "0.8596491228070176\n",
      "0.8596491228070176\n",
      "0.8596491228070176\n",
      "0.8596491228070176\n",
      "0.868421052631579\n",
      "0.8596491228070176\n",
      "0.8596491228070176\n",
      "0.8596491228070176\n",
      "0.8596491228070176\n",
      "0.8596491228070176\n",
      "0.8596491228070176\n",
      "0.8596491228070176\n",
      "0.8596491228070176\n",
      "0.8596491228070176\n",
      "0.8596491228070176\n"
     ]
    }
   ],
   "source": [
    "k_list = range(1,101)\n",
    "accuracies = []\n",
    "\n",
    "for k in range(1,101):\n",
    "    classifier = KNeighborsClassifier(n_neighbors = k)\n",
    "    classifier.fit(training_data, training_labels)\n",
    "    cScore = classifier.score(validation_data, validation_labels)\n",
    "    print(cScore)\n",
    "    accuracies.append(cScore)\n"
   ]
  },
  {
   "cell_type": "code",
   "execution_count": 62,
   "metadata": {},
   "outputs": [
    {
     "data": {
      "image/png": "[encoded data removed]",
      "text/plain": [
       "<Figure size 1080x720 with 1 Axes>"
      ]
     },
     "metadata": {
      "needs_background": "light"
     },
     "output_type": "display_data"
    }
   ],
   "source": [
    "plt.figure(figsize = (15,10))\n",
    "plt.plot(k_list, accuracies)\n",
    "plt.xlabel(\"k\")\n",
    "plt.ylabel(\"Validation Accuracy\")\n",
    "plt.title(\"Breast Cancer Classifier Accuracy\")\n",
    "\n",
    "\n",
    "plt.show()\n"
   ]
  },
  {
   "cell_type": "markdown",
   "metadata": {},
   "source": [
    "## Observation \n",
    "\n",
    "The Classifier Accuracy Graph changes quite drastically for different iterations. This is due to the randomness introduced by the train_test_split, I think the biggest take away is that when splitting the data to training and validation. A lot of consideration about what the model will be used against must be taken into account. \n",
    "\n",
    "___\n",
    "\n",
    "As seen below the lack of balance between malignant and benign data points are quite high close to double the amount of benign. This could simply be representitive of the possibility of malignant and benign tumors as seen in the general population, however it's not an assumption that can be made.\n",
    "\n",
    "According to [breastcancer.org](https://www.breastcancer.org/symptoms/understand_bc/risk/understanding#:~:text=When%20we%20say%20that%201,over%20an%2080%2Dyear%20lifespan.) 12 % of women in the US will develop breast cancer over the course of their lifetime. 1/8 chance over 80 year life-span.\n",
    "\n",
    "___\n",
    "\n",
    "Undoubtly the split of data between training and validation should try to emulate (as close as possible) the expected data it will try to classify. So that the accuracy of the different validation accuracies can be evaluated confidently\n",
    "\n"
   ]
  },
  {
   "cell_type": "code",
   "execution_count": 80,
   "metadata": {},
   "outputs": [
    {
     "name": "stdout",
     "output_type": "stream",
     "text": [
      "Count of malignant 212\n",
      "Count of benign 357\n",
      "Percentage makeup Malignant: 0.37% Benign: 0.63%\n"
     ]
    }
   ],
   "source": [
    "malCount = list(breast_cancer_data.target).count(0)\n",
    "benignCount = list(breast_cancer_data.target).count(1)\n",
    "total = len(breast_cancer_data.target)\n",
    "\n",
    "mPercent = malCount/total\n",
    "bPercent = benignCount/total\n",
    "\n",
    "formatString = \"{:4.2f}\"\n",
    "\n",
    "mPercent = formatString.format(mPercent)\n",
    "bPercent = formatString.format(bPercent)\n",
    "\n",
    "\n",
    "print(\"Count of malignant {}\".format(malCount))\n",
    "print(\"Count of benign {}\".format(benignCount))\n",
    "\n",
    "print(\"Percentage makeup Malignant: {}% Benign: {}%\".format(mPercent, bPercent))"
   ]
  }
 ],
 "metadata": {
  "kernelspec": {
   "display_name": "Python 3",
   "language": "python",
   "name": "python3"
  },
  "language_info": {
   "codemirror_mode": {
    "name": "ipython",
    "version": 3
   },
   "file_extension": ".py",
   "mimetype": "text/x-python",
   "name": "python",
   "nbconvert_exporter": "python",
   "pygments_lexer": "ipython3",
   "version": "3.7.6"
  }
 },
 "nbformat": 4,
 "nbformat_minor": 4
}
